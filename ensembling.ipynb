{
  "nbformat": 4,
  "nbformat_minor": 0,
  "metadata": {
    "colab": {
      "name": "ensembling.ipynb",
      "provenance": [],
      "collapsed_sections": [],
      "toc_visible": true
    },
    "kernelspec": {
      "display_name": "Python 3",
      "language": "python",
      "name": "python3"
    },
    "language_info": {
      "codemirror_mode": {
        "name": "ipython",
        "version": 3
      },
      "file_extension": ".py",
      "mimetype": "text/x-python",
      "name": "python",
      "nbconvert_exporter": "python",
      "pygments_lexer": "ipython3",
      "version": "3.7.6"
    }
  },
  "cells": [
    {
      "cell_type": "markdown",
      "metadata": {
        "id": "BSPL4ZFKwIQD"
      },
      "source": [
        "# Downloading data"
      ]
    },
    {
      "cell_type": "code",
      "metadata": {
        "id": "EELrb9ah6v3E",
        "colab": {
          "base_uri": "https://localhost:8080/"
        },
        "outputId": "a5ac0f84-ae48-4234-81de-39215eaed4b9"
      },
      "source": [
        "!pip install wget\n",
        "!pip install jsonlines\n",
        "\n",
        "!gdown --id 1zME0dkPL90tqMfzLzIl9ZT7GZcY8meG0"
      ],
      "execution_count": 1,
      "outputs": [
        {
          "output_type": "stream",
          "text": [
            "Collecting wget\n",
            "  Downloading https://files.pythonhosted.org/packages/47/6a/62e288da7bcda82b935ff0c6cfe542970f04e29c756b0e147251b2fb251f/wget-3.2.zip\n",
            "Building wheels for collected packages: wget\n",
            "  Building wheel for wget (setup.py) ... \u001b[?25l\u001b[?25hdone\n",
            "  Created wheel for wget: filename=wget-3.2-cp37-none-any.whl size=9681 sha256=1c2ff74ed92ed16c78c522f32090c0d54ee55b1b5a31302ca44e8775c6fb2776\n",
            "  Stored in directory: /root/.cache/pip/wheels/40/15/30/7d8f7cea2902b4db79e3fea550d7d7b85ecb27ef992b618f3f\n",
            "Successfully built wget\n",
            "Installing collected packages: wget\n",
            "Successfully installed wget-3.2\n",
            "Collecting jsonlines\n",
            "  Downloading https://files.pythonhosted.org/packages/d4/58/06f430ff7607a2929f80f07bfd820acbc508a4e977542fefcc522cde9dff/jsonlines-2.0.0-py3-none-any.whl\n",
            "Installing collected packages: jsonlines\n",
            "Successfully installed jsonlines-2.0.0\n",
            "Downloading...\n",
            "From: https://drive.google.com/uc?id=1zME0dkPL90tqMfzLzIl9ZT7GZcY8meG0\n",
            "To: /content/MultiNLI.py\n",
            "100% 3.37k/3.37k [00:00<00:00, 7.76MB/s]\n"
          ],
          "name": "stdout"
        }
      ]
    },
    {
      "cell_type": "code",
      "metadata": {
        "id": "f26VcALBIhQ6",
        "colab": {
          "base_uri": "https://localhost:8080/"
        },
        "outputId": "629e8115-3598-404e-82fc-16091bdc7a60"
      },
      "source": [
        "from MultiNLI import download_and_unzip_multinli, pandas_decorator\n",
        "\n",
        "download_and_unzip_multinli_pd = (download_and_unzip_multinli)\n",
        "train, matched_val, mismatched_val = download_and_unzip_multinli_pd('', '')"
      ],
      "execution_count": 2,
      "outputs": [
        {
          "output_type": "stream",
          "text": [
            "Downloading multinli_1.0.zip to \n",
            "Unzipping multinli_1.0.zip to \n",
            "Reading multinli_1.0/multinli_1.0_train.jsonl\n",
            "Reading multinli_1.0/multinli_1.0_dev_matched.jsonl\n",
            "Reading multinli_1.0/multinli_1.0_dev_mismatched.jsonl\n",
            "Done\n"
          ],
          "name": "stdout"
        }
      ]
    },
    {
      "cell_type": "code",
      "metadata": {
        "id": "QNBmiHbYhq1_"
      },
      "source": [
        ""
      ],
      "execution_count": null,
      "outputs": []
    },
    {
      "cell_type": "code",
      "metadata": {
        "id": "TbBbLUtXWk6K"
      },
      "source": [
        "models = ['roberta', 'albert', 'xlnet', 'deberta']\n",
        "model_weights = {model: None for model in models}\n",
        "\n",
        "albert_remapping = {0:2, 1:1, 2:0}\n",
        "xlnet_remapping  = {0:2, 1:1, 2:0}\n",
        "\n",
        "for model in models:\n",
        "    with open(model + '.pickle', 'rb') as f:\n",
        "        model_weights[model] = pickle.load(f)\n",
        "\n",
        "model_weights['albert']['gold_label'] = [albert_remapping[pred] for pred in model_weights['albert']['gold_label']]\n",
        "model_weights['albert']['preds'] = [torch.tensor([pred[albert_remapping[i]] for i in range(3)]) for pred in model_weights['albert']['preds']]\n",
        "\n",
        "model_weights['xlnet']['gold_label'] = [albert_remapping[pred] for pred in model_weights['xlnet']['gold_label']]\n",
        "model_weights['xlnet']['preds'] = [torch.tensor([pred[xlnet_remapping[i]] for i in range(3)]) for pred in model_weights['xlnet']['preds']]"
      ],
      "execution_count": 7,
      "outputs": []
    },
    {
      "cell_type": "code",
      "metadata": {
        "id": "VmvZ5neNXYh4"
      },
      "source": [
        "# deberta_map = {'neutral': 1, 'contradiction':0, 'entailment':2}\n",
        "# roberta_map = {'neutral': 1, 'contradiction':0, 'entailment':2}\n",
        "# albert_map  = {'neutral': 2, 'contradiction':1, 'entailment':0}\n",
        "# xlnet_map   = {'neutral': 1, 'contradiction':2, 'entailment':0}"
      ],
      "execution_count": null,
      "outputs": []
    }
  ]
}