{
  "nbformat": 4,
  "nbformat_minor": 0,
  "metadata": {
    "colab": {
      "name": "analysis.ipynb",
      "provenance": [],
      "collapsed_sections": [],
      "toc_visible": true
    },
    "kernelspec": {
      "display_name": "Python 3",
      "language": "python",
      "name": "python3"
    },
    "language_info": {
      "codemirror_mode": {
        "name": "ipython",
        "version": 3
      },
      "file_extension": ".py",
      "mimetype": "text/x-python",
      "name": "python",
      "nbconvert_exporter": "python",
      "pygments_lexer": "ipython3",
      "version": "3.7.6"
    }
  },
  "cells": [
    {
      "cell_type": "markdown",
      "metadata": {
        "id": "BSPL4ZFKwIQD"
      },
      "source": [
        "# Downloading data"
      ]
    },
    {
      "cell_type": "code",
      "metadata": {
        "id": "EELrb9ah6v3E",
        "colab": {
          "base_uri": "https://localhost:8080/"
        },
        "outputId": "e1472707-e7ce-4708-82f5-a0e5730ee22e"
      },
      "source": [
        "!pip install wget\n",
        "!pip install jsonlines\n",
        "\n",
        "!gdown --id 1zME0dkPL90tqMfzLzIl9ZT7GZcY8meG0"
      ],
      "execution_count": null,
      "outputs": [
        {
          "output_type": "stream",
          "text": [
            "Collecting wget\n",
            "  Downloading https://files.pythonhosted.org/packages/47/6a/62e288da7bcda82b935ff0c6cfe542970f04e29c756b0e147251b2fb251f/wget-3.2.zip\n",
            "Building wheels for collected packages: wget\n",
            "  Building wheel for wget (setup.py) ... \u001b[?25l\u001b[?25hdone\n",
            "  Created wheel for wget: filename=wget-3.2-cp37-none-any.whl size=9681 sha256=a8cacf35ebd508768ee8573aacf70a58a3cbe7ae8bffc32cad007a05a155eb31\n",
            "  Stored in directory: /root/.cache/pip/wheels/40/15/30/7d8f7cea2902b4db79e3fea550d7d7b85ecb27ef992b618f3f\n",
            "Successfully built wget\n",
            "Installing collected packages: wget\n",
            "Successfully installed wget-3.2\n",
            "Collecting jsonlines\n",
            "  Downloading https://files.pythonhosted.org/packages/d4/58/06f430ff7607a2929f80f07bfd820acbc508a4e977542fefcc522cde9dff/jsonlines-2.0.0-py3-none-any.whl\n",
            "Installing collected packages: jsonlines\n",
            "Successfully installed jsonlines-2.0.0\n"
          ],
          "name": "stdout"
        }
      ]
    },
    {
      "cell_type": "code",
      "metadata": {
        "id": "f26VcALBIhQ6",
        "colab": {
          "base_uri": "https://localhost:8080/"
        },
        "outputId": "a486b92d-6aae-4a40-b37a-63fa6ab56608"
      },
      "source": [
        "from MultiNLI import download_and_unzip_multinli, pandas_decorator\n",
        "\n",
        "download_and_unzip_multinli_pd = (download_and_unzip_multinli)\n",
        "train, matched_val, mismatched_val = download_and_unzip_multinli_pd('', '')"
      ],
      "execution_count": null,
      "outputs": [
        {
          "output_type": "stream",
          "text": [
            "Downloading multinli_1.0.zip to \n",
            "Unzipping multinli_1.0.zip to \n",
            "Reading multinli_1.0/multinli_1.0_train.jsonl\n",
            "Reading multinli_1.0/multinli_1.0_dev_matched.jsonl\n",
            "Reading multinli_1.0/multinli_1.0_dev_mismatched.jsonl\n",
            "Done\n"
          ],
          "name": "stdout"
        }
      ]
    },
    {
      "cell_type": "code",
      "metadata": {
        "colab": {
          "base_uri": "https://localhost:8080/"
        },
        "id": "P0SXosTR5ePU",
        "outputId": "6f908b0c-e8fa-425e-8bb4-1b58a040a7e0"
      },
      "source": [
        "missed_contradictions = 0\n",
        "total_guesses = 0\n",
        "\n",
        "for i in range(len(matched_val)):\n",
        "    gold_label = matched_val[i]['gold_label']\n",
        "    annotator_labels = matched_val[i]['annotator_labels']\n",
        "    if gold_label == 'contradiction':\n",
        "        batch_missed_contr = 0\n",
        "        for label in annotator_labels:\n",
        "            if label != gold_label:\n",
        "                batch_missed_contr += 1\n",
        "        if batch_missed_contr >= 2: #тут тонкий момент: я считаю, что эксперт ошибся, если 2 из 5 annotator_labels не contradiction. ниже можно посмотреть, что будет если искать ВСЕ недопредсказанные contradiction'ы\n",
        "            missed_contradictions += 1 \n",
        "    for label in annotator_labels:\n",
        "        total_guesses += 1\n",
        "\n",
        "print(\"вероятность эксперат ошибиться: {0}\".format(missed_contradictions / total_guesses))"
      ],
      "execution_count": null,
      "outputs": [
        {
          "output_type": "stream",
          "text": [
            "вероятность эксперат ошибиться: 0.0073\n"
          ],
          "name": "stdout"
        }
      ]
    },
    {
      "cell_type": "code",
      "metadata": {
        "colab": {
          "base_uri": "https://localhost:8080/"
        },
        "id": "nOOvvyoCLlXn",
        "outputId": "f32625d5-fe82-40aa-bd47-da5a0e461a97"
      },
      "source": [
        "missed_contradictions = 0\n",
        "total_guesses = 0\n",
        "\n",
        "for i in range(len(matched_val)):\n",
        "    gold_label = matched_val[i]['gold_label']\n",
        "    annotator_labels = matched_val[i]['annotator_labels']\n",
        "    if gold_label == 'contradiction':\n",
        "        batch_missed_contr = 0\n",
        "        for label in annotator_labels:\n",
        "            if label != gold_label:\n",
        "                batch_missed_contr += 1\n",
        "        if batch_missed_contr >= 1: #тут тонкий момент: я считаю, что эксперт ошибся, если 2 из 5 annotator_labels не contradiction. ниже можно посмотреть, что будет если искать ВСЕ недопредсказанные contradiction'ы\n",
        "            missed_contradictions += 1 \n",
        "    for label in annotator_labels:\n",
        "        total_guesses += 1\n",
        "\n",
        "print(\"вероятность эксперат ошибиться: {0}\".format(missed_contradictions / total_guesses))"
      ],
      "execution_count": null,
      "outputs": [
        {
          "output_type": "stream",
          "text": [
            "вероятность эксперат ошибиться: 0.02054\n"
          ],
          "name": "stdout"
        }
      ]
    },
    {
      "cell_type": "code",
      "metadata": {
        "colab": {
          "base_uri": "https://localhost:8080/"
        },
        "id": "JggKpHtv-5h5",
        "outputId": "58b6e117-4a9c-482a-8801-7050e93f49b9"
      },
      "source": [
        "import pickle\n",
        "!gdown --id 1wbDrzVPpsuJMT1jZin14QMpvmbviIYBW\n",
        "with open('deberta-v2-xxlarge preds.pickle', 'rb') as f:\n",
        "    preds_and_labels = pickle.load(f)"
      ],
      "execution_count": null,
      "outputs": [
        {
          "output_type": "stream",
          "text": [
            "Downloading...\n",
            "From: https://drive.google.com/uc?id=1wbDrzVPpsuJMT1jZin14QMpvmbviIYBW\n",
            "To: /content/deberta-v2-xxlarge preds.pickle\n",
            "7.03MB [00:00, 60.3MB/s]\n"
          ],
          "name": "stdout"
        }
      ]
    },
    {
      "cell_type": "code",
      "metadata": {
        "id": "MsglGfMU_Qb9"
      },
      "source": [
        "gold_label = [pred.item() for pred in preds_and_labels['gold_label']]"
      ],
      "execution_count": null,
      "outputs": []
    },
    {
      "cell_type": "code",
      "metadata": {
        "colab": {
          "base_uri": "https://localhost:8080/"
        },
        "id": "Q93lt2bVGrJn",
        "outputId": "b9f95278-8c99-487a-aa0a-5dd64e9ec68b"
      },
      "source": [
        "threshold = 0.99\n",
        "preds = [(pred.argmax(-1).item(), label.item()) for (pred, label) in zip(preds_and_labels['softmaxed_logits'], preds_and_labels['gold_label']) if torch.max(pred) > threshold]\n",
        "y_preds = [pred[0] for pred in preds]\n",
        "y_true = [pred[1] for pred in preds]\n",
        "\n",
        "contradictions = 0\n",
        "missed_contradictions = 0\n",
        "for y_pred, y_true_el in zip(y_preds, y_true):\n",
        "    if y_true_el == 0:\n",
        "        contradictions += 1\n",
        "        if y_pred != 0:\n",
        "            missed_contradictions += 1\n",
        "\n",
        "missed_contradictions / contradictions\n",
        "print(\"вероятность модели недопредсказать contradiction при уверенности больше {1}: {0}\\nТогда доля датасета, с которой работает модель: {2}\".format(missed_contradictions / contradictions, threshold, len(preds) / len(preds_and_labels['gold_label'])))"
      ],
      "execution_count": null,
      "outputs": [
        {
          "output_type": "stream",
          "text": [
            "вероятность модели недопредсказать contradiction при уверенности больше 0.99: 0.006247211066488175\n",
            "Тогда доля датасета, с которой работает модель: 0.5023942944472746\n"
          ],
          "name": "stdout"
        }
      ]
    },
    {
      "cell_type": "code",
      "metadata": {
        "id": "Agwa3g_5MDva",
        "colab": {
          "base_uri": "https://localhost:8080/"
        },
        "outputId": "80da0cd5-4f54-4573-94a2-cfff97906133"
      },
      "source": [
        "threshold = 0.92\n",
        "preds = [(pred.argmax(-1).item(), label.item()) for (pred, label) in zip(preds_and_labels['softmaxed_logits'], preds_and_labels['gold_label']) if torch.max(pred) > threshold]\n",
        "y_preds = [pred[0] for pred in preds]\n",
        "y_true = [pred[1] for pred in preds]\n",
        "\n",
        "contradictions = 0\n",
        "missed_contradictions = 0\n",
        "for y_pred, y_true_el in zip(y_preds, y_true):\n",
        "    if y_true_el == 0:\n",
        "        contradictions += 1\n",
        "        if y_pred != 0:\n",
        "            missed_contradictions += 1\n",
        "\n",
        "missed_contradictions / contradictions\n",
        "print(\"вероятность модели недопредсказать contradiction при уверенности больше {1}: {0}\\nТогда доля датасета, с которой работает модель: {2}\".format(missed_contradictions / contradictions, threshold, len(preds) / len(preds_and_labels['gold_label'])))"
      ],
      "execution_count": null,
      "outputs": [
        {
          "output_type": "stream",
          "text": [
            "вероятность модели недопредсказать contradiction при уверенности больше 0.92: 0.020313613684960798\n",
            "Тогда доля датасета, с которой работает модель: 0.7904228222109017\n"
          ],
          "name": "stdout"
        }
      ]
    }
  ]
}